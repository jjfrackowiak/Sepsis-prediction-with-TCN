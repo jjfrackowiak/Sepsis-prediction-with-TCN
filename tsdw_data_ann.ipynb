{
 "cells": [
  {
   "cell_type": "code",
   "execution_count": 3,
   "metadata": {},
   "outputs": [
    {
     "name": "stderr",
     "output_type": "stream",
     "text": [
      "2023-09-16 23:59:20 [INFO]: You're using dataset physionet_2019, please cite it properly in your work. You can find its reference information at the below link: \n",
      "https://github.com/WenjieDu/TSDB/tree/main/dataset_profiles/physionet_2019\n",
      "2023-09-16 23:59:20 [INFO]: Start downloading...\n",
      "2023-09-16 23:59:23 [INFO]: Successfully downloaded data to /var/folders/q6/lk4j1q_132jb5t939ryj_p5r0000gn/T/tmp6ah8p6tf/training_setA.zip.\n",
      "2023-09-16 23:59:25 [INFO]: Successfully extracted data to /Users/michal/.tsdb_cached_datasets/physionet_2019\n",
      "2023-09-16 23:59:28 [INFO]: Successfully downloaded data to /var/folders/q6/lk4j1q_132jb5t939ryj_p5r0000gn/T/tmpb7o__rmu/training_setB.zip.\n",
      "2023-09-16 23:59:30 [INFO]: Successfully extracted data to /Users/michal/.tsdb_cached_datasets/physionet_2019\n",
      "2023-09-17 00:00:42 [INFO]: Successfully saved to /Users/michal/.tsdb_cached_datasets/physionet_2019/physionet_2019_cache.pkl\n",
      "2023-09-17 00:00:42 [INFO]: Loaded successfully!\n",
      "2023-09-17 00:00:42 [INFO]: Start downloading...\n",
      "2023-09-17 00:00:47 [INFO]: Successfully downloaded data to /var/folders/q6/lk4j1q_132jb5t939ryj_p5r0000gn/T/tmp9hhqnet1/training_setA.zip.\n",
      "2023-09-17 00:00:49 [INFO]: Successfully extracted data to ./ph_19\n",
      "2023-09-17 00:00:53 [INFO]: Successfully downloaded data to /var/folders/q6/lk4j1q_132jb5t939ryj_p5r0000gn/T/tmpsjwzt85y/training_setB.zip.\n",
      "2023-09-17 00:00:55 [INFO]: Successfully extracted data to ./ph_19\n"
     ]
    },
    {
     "data": {
      "text/plain": [
       "\"tsdb.list_cached_data()  # datasets you once loaded are cached, and you can check them with list_cached_data()\\ntsdb.delete_cached_data(dataset_name='physionet_2019')  # you can delete only one specific dataset and preserve others\\ntsdb.delete_cached_data()  # or you can delete all cache with delete_cached_data() to free disk space\""
      ]
     },
     "execution_count": 3,
     "metadata": {},
     "output_type": "execute_result"
    }
   ],
   "source": [
    "import tsdb\n",
    "\n",
    "tsdb.list_available_datasets()  # list all available datasets in TSDB\n",
    "data = tsdb.load_dataset('physionet_2019')  # select the dataset you need and load it, TSDB will download, extract, and process it automatically\n",
    "tsdb.download_and_extract('physionet_2019', './ph_19')  # if you need the raw data, use download_and_extract()\n",
    "\n",
    "\n",
    "'''tsdb.list_cached_data()  # datasets you once loaded are cached, and you can check them with list_cached_data()\n",
    "tsdb.delete_cached_data(dataset_name='physionet_2019')  # you can delete only one specific dataset and preserve others\n",
    "tsdb.delete_cached_data()  # or you can delete all cache with delete_cached_data() to free disk space'''"
   ]
  },
  {
   "cell_type": "code",
   "execution_count": 4,
   "metadata": {},
   "outputs": [],
   "source": [
    "import torch\n",
    "import torch.nn as nn\n",
    "import torch.optim as optim\n",
    "import pandas as pd\n",
    "from sklearn.model_selection import train_test_split\n",
    "from sklearn.preprocessing import StandardScaler\n",
    "from torch.utils.data import DataLoader, TensorDataset\n",
    "from sklearn.metrics import accuracy_score"
   ]
  },
  {
   "cell_type": "code",
   "execution_count": null,
   "metadata": {},
   "outputs": [],
   "source": [
    "import torch\n",
    "import torch.nn as nn\n",
    "import torch.optim as optim\n",
    "from sklearn.metrics import accuracy_score\n",
    "\n",
    "# Assuming you have already prepared your data (X_train_tensor, y_train_tensor, X_test_tensor, y_test_tensor)\n",
    "\n",
    "class ANN(nn.Module):\n",
    "    def __init__(self, input_dim):\n",
    "        super(ANN, self).__init__()\n",
    "        self.fc1 = nn.Linear(input_dim, 64)\n",
    "        self.fc2 = nn.Linear(64, 32)\n",
    "        self.fc3 = nn.Linear(32, 1)\n",
    "        self.sig = nn.Sigmoid()\n",
    "\n",
    "    def forward(self, x):\n",
    "        x = torch.relu(self.fc1(x))\n",
    "        x = torch.relu(self.fc2(x))\n",
    "        x = self.fc3(x)\n",
    "        return self.sig(x)\n",
    "\n",
    "# Initialize the model\n",
    "input_dim = 40\n",
    "model = ANN(input_dim)\n",
    "\n",
    "# Define the loss function and optimizer\n",
    "criterion = nn.BCELoss()\n",
    "initial_lr = 0.001  # Initial learning rate\n",
    "new_lr = initial_lr * 0.1  # Decrease learning rate\n",
    "l2_reg = 1e-4  # Adjust regularization strength\n",
    "\n",
    "optimizer = optim.Adam(model.parameters(), lr=initial_lr)\n",
    "\n",
    "# Training loop\n",
    "num_epochs = 50\n",
    "batch_size = 32\n",
    "\n",
    "for epoch in range(num_epochs):\n",
    "    for i in range(0, len(X_train_tensor), batch_size):\n",
    "        batch_X = X_train_tensor[i:i+batch_size]\n",
    "        batch_y = y_train_tensor[i:i+batch_size]\n",
    "\n",
    "        # Check for NaN values in the batch_X (before replacing with 0)\n",
    "        nan_mask = torch.isnan(batch_X)\n",
    "        has_nan = torch.any(nan_mask)\n",
    "\n",
    "        \n",
    "\n",
    "        if has_nan:\n",
    "            batch_X[torch.isnan(batch_X)] = 0\n",
    "            # Reduce learning rate and apply regularization\n",
    "            \n",
    "            for param_group in optimizer.param_groups:\n",
    "                param_group['lr'] = new_lr\n",
    "            # Apply L2 regularization\n",
    "            l2_loss = 0.0\n",
    "            for param in model.parameters():\n",
    "                l2_loss += torch.norm(param, p=2)\n",
    "\n",
    "            loss = criterion(model(batch_X), batch_y.view(-1, 1)) + l2_reg * l2_loss\n",
    "        else:\n",
    "            # Use the normal learning rate and no regularization\n",
    "            \n",
    "            loss = criterion(model(batch_X), batch_y.view(-1, 1))\n",
    "        optimizer.zero_grad()\n",
    "        loss.backward()\n",
    "        optimizer.step()\n",
    "\n",
    "    # Print the loss for each epoch\n",
    "    print(f'Epoch [{epoch+1}/{num_epochs}], Loss: {loss.item()}')\n",
    "\n",
    "# Evaluate the model on the test set\n",
    "with torch.no_grad():\n",
    "    test_outputs = model(X_test_tensor)\n",
    "    test_predictions = (test_outputs > 0.5).float().view(-1)\n",
    "    accuracy = accuracy_score(y_test_tensor.numpy(), test_predictions.numpy())\n",
    "    print(f'Test Accuracy: {accuracy}')\n"
   ]
  }
 ],
 "metadata": {
  "kernelspec": {
   "display_name": "pytorch-arm",
   "language": "python",
   "name": "python3"
  },
  "language_info": {
   "codemirror_mode": {
    "name": "ipython",
    "version": 3
   },
   "file_extension": ".py",
   "mimetype": "text/x-python",
   "name": "python",
   "nbconvert_exporter": "python",
   "pygments_lexer": "ipython3",
   "version": "3.10.8"
  },
  "orig_nbformat": 4
 },
 "nbformat": 4,
 "nbformat_minor": 2
}
